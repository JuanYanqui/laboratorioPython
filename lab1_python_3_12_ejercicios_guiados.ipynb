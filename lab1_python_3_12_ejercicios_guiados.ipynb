{
  "nbformat": 4,
  "nbformat_minor": 0,
  "metadata": {
    "colab": {
      "provenance": []
    },
    "kernelspec": {
      "name": "python3",
      "display_name": "Python 3"
    },
    "language_info": {
      "name": "python"
    }
  },
  "cells": [
    {
      "cell_type": "code",
      "execution_count": 6,
      "metadata": {
        "id": "_A3upQNDZqhA"
      },
      "outputs": [],
      "source": [
        "# =========================\n",
        "# Módulo A — Funciones y Métodos\n",
        "# =========================\n",
        "\n",
        "# --- A.1: Funciones como valores ---\n",
        "def saludar(nombre):\n",
        "    return f\"Hola, {nombre}\"\n",
        "\n",
        "def despedir(nombre):\n",
        "    return f\"Adiós, {nombre}\"\n",
        "\n",
        "def aplaudir(nombre):\n",
        "    return f\"Bien hecho, {nombre}\"\n",
        "\n",
        "# Diccionario de acciones\n",
        "acciones = {\n",
        "    \"saludar\": saludar,\n",
        "    \"despedir\": despedir,\n",
        "    \"aplaudir\": aplaudir\n",
        "}\n",
        "\n",
        "def ejecutar(accion, *args, **kwargs):\n",
        "    if accion not in acciones:\n",
        "        raise ValueError(f\"La acción '{accion}' no está disponible.\")\n",
        "    funcion = acciones[accion]\n",
        "    return funcion(*args, **kwargs)\n",
        "\n",
        "\n",
        "# --- A.2: Funciones internas y closures ---\n",
        "def crear_descuento(porcentaje):\n",
        "    def aplicar_descuento(precio):\n",
        "        return precio * (1 - porcentaje)\n",
        "    return aplicar_descuento\n",
        "\n",
        "descuento10 = crear_descuento(0.10)\n",
        "descuento25 = crear_descuento(0.25)"
      ]
    },
    {
      "cell_type": "code",
      "source": [
        "# =========================\n",
        "# Módulo B — Excepciones\n",
        "# =========================\n",
        "\n",
        "# --- B.1: Validación de entrada ---\n",
        "def parsear_enteros(entradas):\n",
        "    valores = []\n",
        "    errores = []\n",
        "    for elemento in entradas:\n",
        "        try:\n",
        "            valores.append(int(elemento))\n",
        "        except ValueError:\n",
        "            errores.append(f\"'{elemento}' no es un entero válido\")\n",
        "    return valores, errores\n",
        "\n",
        "\n",
        "# --- B.2: Excepciones personalizadas ---\n",
        "class CantidadInvalida(Exception):\n",
        "    pass\n",
        "\n",
        "def calcular_total(precio_unitario, cantidad):\n",
        "    if cantidad <= 0:\n",
        "        raise CantidadInvalida(f\"La cantidad debe ser mayor a 0. Recibido: {cantidad}\")\n",
        "    if precio_unitario < 0:\n",
        "        raise ValueError(f\"El precio unitario no puede ser negativo. Recibido: {precio_unitario}\")\n",
        "    return precio_unitario * cantidad\n"
      ],
      "metadata": {
        "id": "DI1y5_0EaKxA"
      },
      "execution_count": 7,
      "outputs": []
    },
    {
      "cell_type": "code",
      "source": [
        "# =========================\n",
        "# Módulo C — Decoradores\n",
        "# =========================\n",
        "\n",
        "# --- C.1: Decorador de validación ---\n",
        "def requiere_positivos(func):\n",
        "    def wrapper(*args, **kwargs):\n",
        "        for arg in list(args) + list(kwargs.values()):\n",
        "            if isinstance(arg, (int, float)) and arg <= 0:\n",
        "                raise ValueError(f\"Todos los valores numéricos deben ser positivos. Recibido: {arg}\")\n",
        "        return func(*args, **kwargs)\n",
        "    return wrapper\n",
        "\n",
        "@requiere_positivos\n",
        "def calcular_descuento(precio, porcentaje):\n",
        "    return precio * (1 - porcentaje)\n",
        "\n",
        "@requiere_positivos\n",
        "def escala(valor, factor):\n",
        "    return valor * factor\n"
      ],
      "metadata": {
        "id": "ciqL7azPaSFD"
      },
      "execution_count": 8,
      "outputs": []
    },
    {
      "cell_type": "code",
      "source": [
        "# --- A.1 ---\n",
        "print(ejecutar(\"saludar\", \"Ana\"))\n",
        "print(ejecutar(\"despedir\", \"Luis\"))\n",
        "print(ejecutar(\"aplaudir\", \"Sofía\"))\n",
        "\n",
        "# --- A.2 ---\n",
        "print(descuento10(100))\n",
        "print(descuento25(80))\n",
        "\n",
        "# --- B.1 ---\n",
        "entradas = [\"10\", \"x\", \"3\"]\n",
        "valores, errores = parsear_enteros(entradas)\n",
        "print(valores)  # [10, 3]\n",
        "print(errores)  # [\"'x' no es un entero válido\"]\n",
        "\n",
        "# --- B.2 ---\n",
        "try:\n",
        "    print(calcular_total(10, 3))\n",
        "    print(calcular_total(10, 0))\n",
        "except CantidadInvalida as e:\n",
        "    print(f\"Error: {e}\")\n",
        "except ValueError as e:\n",
        "    print(f\"Error: {e}\")\n",
        "\n",
        "# --- C.1 ---\n",
        "try:\n",
        "   print(calcular_descuento(100, 0.2))\n",
        "   print(calcular_descuento(-1, 0.2))\n",
        "except ValueError as e:\n",
        "    print(f\"Error: {e}\")\n",
        "\n",
        "    print(escala(5, 3))  # 15"
      ],
      "metadata": {
        "colab": {
          "base_uri": "https://localhost:8080/"
        },
        "id": "8LXP2ewia7kJ",
        "outputId": "1ae07131-8a91-4c7d-a865-1c230bcd1ea6"
      },
      "execution_count": 10,
      "outputs": [
        {
          "output_type": "stream",
          "name": "stdout",
          "text": [
            "Hola, Ana\n",
            "Adiós, Luis\n",
            "Bien hecho, Sofía\n",
            "90.0\n",
            "60.0\n",
            "[10, 3]\n",
            "[\"'x' no es un entero válido\"]\n",
            "30\n",
            "Error: La cantidad debe ser mayor a 0. Recibido: 0\n",
            "80.0\n",
            "Error: Todos los valores numéricos deben ser positivos. Recibido: -1\n",
            "15\n"
          ]
        }
      ]
    }
  ]
}